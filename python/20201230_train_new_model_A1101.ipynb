{
 "cells": [
  {
   "cell_type": "code",
   "execution_count": 1,
   "metadata": {},
   "outputs": [
    {
     "name": "stderr",
     "output_type": "stream",
     "text": [
      "c:\\programdata\\anaconda3\\envs\\tensorflow\\lib\\site-packages\\numpy\\_distributor_init.py:30: UserWarning: loaded more than 1 DLL from .libs:\n",
      "c:\\programdata\\anaconda3\\envs\\tensorflow\\lib\\site-packages\\numpy\\.libs\\libopenblas.PYQHXLVVQ7VESDPUVUADXEVJOBGHJPAY.gfortran-win_amd64.dll\n",
      "c:\\programdata\\anaconda3\\envs\\tensorflow\\lib\\site-packages\\numpy\\.libs\\libopenblas.WCDJNK7YVMPZQ2ME2ZZHJJRJ3JIKNDB7.gfortran-win_amd64.dll\n",
      "  warnings.warn(\"loaded more than 1 DLL from .libs:\"\n"
     ]
    }
   ],
   "source": [
    "\n",
    "from time import time\n",
    "\n",
    "\n",
    "\n",
    "from sklearn.preprocessing import RobustScaler, PowerTransformer\n",
    "from sklearn.preprocessing import MaxAbsScaler\n",
    "from sklearn.preprocessing import MinMaxScaler\n",
    "from sklearn.preprocessing import OneHotEncoder\n",
    "from sklearn.ensemble import RandomForestClassifier\n",
    "\n",
    "from sklearn.preprocessing import StandardScaler\n",
    "from sklearn import metrics\n",
    "from sklearn.model_selection import train_test_split\n",
    "from sklearn.linear_model import LogisticRegression\n",
    "from sklearn.metrics import mean_squared_error\n",
    "from sklearn.dummy import *\n",
    "\n",
    "from sklearn.model_selection import RandomizedSearchCV, KFold\n",
    "from sklearn.model_selection import GridSearchCV\n",
    "from sklearn.model_selection import StratifiedKFold\n",
    "import matplotlib.pyplot as plt\n",
    "import pandas as pd\n",
    "import numpy as np\n",
    "import os\n",
    "\n",
    "\n",
    "import pandas as pd\n",
    "import numpy as np\n",
    "from sklearn.utils import class_weight\n",
    "from sklearn.model_selection import train_test_split\n",
    "\n",
    "\n",
    "from time import time\n",
    "from keras.layers.core import Dense, Activation, Dropout\n",
    "from keras.preprocessing import sequence\n",
    "from keras.models import Sequential\n",
    "from keras.layers import Dense, Embedding\n",
    "from keras.layers import LSTM\n",
    "from keras.layers import RNN, BatchNormalization\n",
    "from keras.datasets import imdb\n",
    "import keras.layers.advanced_activations\n",
    "from tensorflow.keras.callbacks import TensorBoard\n",
    "\n",
    "from sklearn.preprocessing import RobustScaler, PowerTransformer\n",
    "from sklearn.preprocessing import MaxAbsScaler\n",
    "from sklearn.preprocessing import MinMaxScaler\n",
    "from sklearn.preprocessing import OneHotEncoder\n",
    "from sklearn.ensemble import RandomForestClassifier\n",
    "#from sklearn.datasets import fetch_mldata\n",
    "from sklearn.preprocessing import StandardScaler\n",
    "from sklearn import metrics\n",
    "from sklearn.model_selection import train_test_split\n",
    "from sklearn.linear_model import LogisticRegression\n",
    "from sklearn.metrics import mean_squared_error\n",
    "from sklearn.dummy import *\n",
    "from keras.wrappers.scikit_learn import KerasClassifier\n",
    "from sklearn.model_selection import RandomizedSearchCV, KFold\n",
    "from sklearn.model_selection import GridSearchCV\n",
    "from sklearn.model_selection import StratifiedKFold\n",
    "import matplotlib.pyplot as plt\n",
    "import pandas as pd\n",
    "import numpy as np\n",
    "import os\n",
    "from hyperopt import Trials, STATUS_OK, tpe\n",
    "from hyperas import optim\n",
    "from hyperas.distributions import choice, uniform\n",
    "from keras.models import Sequential\n",
    "from keras.layers.core import Dense, Dropout, Activation\n",
    "from keras.layers import LSTM, Embedding\n",
    "from keras.datasets import mnist\n",
    "from keras.utils import np_utils\n",
    "import pandas as pd\n",
    "import numpy as np\n",
    "from sklearn.utils import class_weight\n",
    "from sklearn.model_selection import train_test_split\n",
    "import tensorflow as tf"
   ]
  },
  {
   "cell_type": "code",
   "execution_count": 2,
   "metadata": {},
   "outputs": [
    {
     "data": {
      "text/plain": [
       "'C:\\\\Users\\\\qdickinson\\\\Jupyter Notebooks\\\\20201230_train_new_model_MHC_all5'"
      ]
     },
     "execution_count": 2,
     "metadata": {},
     "output_type": "execute_result"
    }
   ],
   "source": [
    "os.getcwd()\n",
    "#os.chdir('/home/jgmeyer2/MHCpeptides/')"
   ]
  },
  {
   "cell_type": "code",
   "execution_count": 3,
   "metadata": {},
   "outputs": [
    {
     "data": {
      "text/html": [
       "<div>\n",
       "<style scoped>\n",
       "    .dataframe tbody tr th:only-of-type {\n",
       "        vertical-align: middle;\n",
       "    }\n",
       "\n",
       "    .dataframe tbody tr th {\n",
       "        vertical-align: top;\n",
       "    }\n",
       "\n",
       "    .dataframe thead th {\n",
       "        text-align: right;\n",
       "    }\n",
       "</style>\n",
       "<table border=\"1\" class=\"dataframe\">\n",
       "  <thead>\n",
       "    <tr style=\"text-align: right;\">\n",
       "      <th></th>\n",
       "      <th>Sequence</th>\n",
       "      <th>Intensity</th>\n",
       "    </tr>\n",
       "  </thead>\n",
       "  <tbody>\n",
       "    <tr>\n",
       "      <th>0</th>\n",
       "      <td>AAAATSAGTR</td>\n",
       "      <td>0.253411</td>\n",
       "    </tr>\n",
       "    <tr>\n",
       "      <th>1</th>\n",
       "      <td>AAASSLLYK</td>\n",
       "      <td>0.748583</td>\n",
       "    </tr>\n",
       "    <tr>\n",
       "      <th>2</th>\n",
       "      <td>AAATSAGTR</td>\n",
       "      <td>0.231444</td>\n",
       "    </tr>\n",
       "    <tr>\n",
       "      <th>3</th>\n",
       "      <td>AAATSAGTRR</td>\n",
       "      <td>0.341356</td>\n",
       "    </tr>\n",
       "    <tr>\n",
       "      <th>4</th>\n",
       "      <td>AAAYFVGYLK</td>\n",
       "      <td>1.000000</td>\n",
       "    </tr>\n",
       "    <tr>\n",
       "      <th>...</th>\n",
       "      <td>...</td>\n",
       "      <td>...</td>\n",
       "    </tr>\n",
       "    <tr>\n",
       "      <th>6278</th>\n",
       "      <td>YYKDDISYF</td>\n",
       "      <td>0.084687</td>\n",
       "    </tr>\n",
       "    <tr>\n",
       "      <th>6279</th>\n",
       "      <td>YYLEKANKI</td>\n",
       "      <td>0.084687</td>\n",
       "    </tr>\n",
       "    <tr>\n",
       "      <th>6280</th>\n",
       "      <td>YYPEDPVKL</td>\n",
       "      <td>0.084687</td>\n",
       "    </tr>\n",
       "    <tr>\n",
       "      <th>6281</th>\n",
       "      <td>YYQLCQHLK</td>\n",
       "      <td>0.469617</td>\n",
       "    </tr>\n",
       "    <tr>\n",
       "      <th>6282</th>\n",
       "      <td>YYYNFSEDL</td>\n",
       "      <td>0.084687</td>\n",
       "    </tr>\n",
       "  </tbody>\n",
       "</table>\n",
       "<p>6283 rows × 2 columns</p>\n",
       "</div>"
      ],
      "text/plain": [
       "        Sequence  Intensity\n",
       "0     AAAATSAGTR   0.253411\n",
       "1      AAASSLLYK   0.748583\n",
       "2      AAATSAGTR   0.231444\n",
       "3     AAATSAGTRR   0.341356\n",
       "4     AAAYFVGYLK   1.000000\n",
       "...          ...        ...\n",
       "6278   YYKDDISYF   0.084687\n",
       "6279   YYLEKANKI   0.084687\n",
       "6280   YYPEDPVKL   0.084687\n",
       "6281   YYQLCQHLK   0.469617\n",
       "6282   YYYNFSEDL   0.084687\n",
       "\n",
       "[6283 rows x 2 columns]"
      ]
     },
     "execution_count": 3,
     "metadata": {},
     "output_type": "execute_result"
    }
   ],
   "source": [
    "inp = pd.read_csv(\"A1101_binding.txt\", header=0, low_memory=False, sep=\"\\t\")\n",
    "inp.index = range(len(inp))\n",
    "inp.head()\n",
    "\n",
    "inp = inp.groupby('Sequence', as_index=False).mean()\n",
    "inp"
   ]
  },
  {
   "cell_type": "markdown",
   "metadata": {},
   "source": [
    "### group strings that have the same first 8 characters"
   ]
  },
  {
   "cell_type": "code",
   "execution_count": 4,
   "metadata": {},
   "outputs": [],
   "source": [
    "peptides = inp['Sequence'].tolist()\n",
    "#peptides"
   ]
  },
  {
   "cell_type": "code",
   "execution_count": 5,
   "metadata": {},
   "outputs": [
    {
     "data": {
      "text/plain": [
       "['AAAATSAGTR',\n",
       " 'AAASSLLYK',\n",
       " 'AAATSAGTR',\n",
       " 'AAATSAGTRR',\n",
       " 'AAAYFVGYLK',\n",
       " 'AACAMLLVK',\n",
       " 'AADEPPLVR',\n",
       " 'AADFPGIAR',\n",
       " 'AADKAAAAY',\n",
       " 'AAERGPGQML',\n",
       " 'AAFLDDNAF',\n",
       " 'AAFQSSMTK',\n",
       " 'AAGIAWIPY',\n",
       " 'AAGIIILMEY',\n",
       " 'AAGLPAIFV',\n",
       " 'AAHARFVAA',\n",
       " 'AAIDGEYRLK',\n",
       " 'AAIDLSHFL',\n",
       " 'AAIDRQVSVK',\n",
       " 'AAISDYDYY',\n",
       " 'AAISKLGINY',\n",
       " 'AAKKKGASL',\n",
       " 'AAKYVEHDPR',\n",
       " 'AALDGTFQR',\n",
       " 'AALDGTFQRK',\n",
       " 'AALDLSHFL',\n",
       " 'AALEGLSGF',\n",
       " 'AALFMYYAK',\n",
       " 'AALFMYYAKR',\n",
       " 'AALSSLAKH',\n",
       " 'AAMQRKLEK',\n",
       " 'AAMVLLLRK',\n",
       " 'AANEIRISK',\n",
       " 'AANEMGLIEK',\n",
       " 'AANTVIWDY',\n",
       " 'AARILSEKR',\n",
       " 'AARILSEKRK',\n",
       " 'AASCGGAVF',\n",
       " 'AATIQTPTK',\n",
       " 'AAVDLSHFL',\n",
       " 'AAVTLNRIK',\n",
       " 'AAYFVGYLK',\n",
       " 'AAYYFMKFR',\n",
       " 'AAYYFMKFRR',\n",
       " 'ACMDGFEVV',\n",
       " 'ACNKIKGKK',\n",
       " 'ACQEAVKLK',\n",
       " 'ACRCGRFQK',\n",
       " 'ACREQQLPV',\n",
       " 'ACYNTCYCK',\n",
       " 'ADFKLFFRW',\n",
       " 'ADLRFASEF',\n",
       " 'AEALLADGL',\n",
       " 'AEDMLNPNY',\n",
       " 'AEFKYIAAV',\n",
       " 'AEFPVGSTA',\n",
       " 'AEFWDVFLS',\n",
       " 'AEGTGITHL',\n",
       " 'AEHDPWWAV',\n",
       " 'AEHFENQVL',\n",
       " 'AEIDRSFKP',\n",
       " 'AEILSGRVI',\n",
       " 'AEKSRGRRI',\n",
       " 'AEMGGHAER',\n",
       " 'AEMKTDAA',\n",
       " 'AEMKTDAAT',\n",
       " 'AEMKTDAATL',\n",
       " 'AEMRAYHGF',\n",
       " 'AEMRETHWL',\n",
       " 'AENGWGFYF',\n",
       " 'AENKKFKLH',\n",
       " 'AENLWVTVY',\n",
       " 'AERGPGQML',\n",
       " 'AERGPGQMLG',\n",
       " 'AEWDRVHPV',\n",
       " 'AFASLQDML',\n",
       " 'AFDAPTLYVK',\n",
       " 'AFDIASVFF',\n",
       " 'AFDISVNASK',\n",
       " 'AFDLSFFLK',\n",
       " 'AFDLSHFLK',\n",
       " 'AFDWPELEF',\n",
       " 'AFEFINSLLK',\n",
       " 'AFFSDLVKF',\n",
       " 'AFGLFWLVW',\n",
       " 'AFHHIAREK',\n",
       " 'AFHHKAREL',\n",
       " 'AFHHMAREK',\n",
       " 'AFHHMAREL',\n",
       " 'AFHHRAREL',\n",
       " 'AFHHVAREK',\n",
       " 'AFHHVAREL',\n",
       " 'AFHTPAFDK',\n",
       " 'AFLESQSMNK',\n",
       " 'AFLILPQAK',\n",
       " 'AFLLRHYYNK',\n",
       " 'AFNDDGIYIR',\n",
       " 'AFPTSCHM',\n",
       " 'AFQHQNSKK',\n",
       " 'AFRHMAREL',\n",
       " 'AFRHVAREL',\n",
       " 'AFSGVSWTMK',\n",
       " 'AFSLDVSEK',\n",
       " 'AFVRFSTDK',\n",
       " 'AFWENKKNL',\n",
       " 'AFYTRVLKP',\n",
       " 'AGGDIWVTR',\n",
       " 'AGLAFSIMK',\n",
       " 'AGLAFSLMK',\n",
       " 'AGLITGGRR',\n",
       " 'AGLTHMMIWH',\n",
       " 'AHAGARVNL',\n",
       " 'AHGWSTFYL',\n",
       " 'AHSKAETEA',\n",
       " 'AHSTIMPRL',\n",
       " 'AHYEEDVNL',\n",
       " 'AIAQSSMTK',\n",
       " 'AIDAYPLTK',\n",
       " 'AIDFLLQRW',\n",
       " 'AIDFLLRRW',\n",
       " 'AIDMSHFIK',\n",
       " 'AIDRQVSVK',\n",
       " 'AIEKDRLDK',\n",
       " 'AIEPSGNNY',\n",
       " 'AIFASSMTK',\n",
       " 'AIFGQTGPK',\n",
       " 'AIFKLTYQNK',\n",
       " 'AIFLTTLSR',\n",
       " 'AIFQASMTK',\n",
       " 'AIFQCSMTK',\n",
       " 'AIFQRSMTR',\n",
       " 'AIFQSAMTK',\n",
       " 'AIFQSSATK',\n",
       " 'AIFQSSMAK',\n",
       " 'AIFQSSMTA',\n",
       " 'AIFQSSMTK',\n",
       " 'AIFQSSMTR',\n",
       " 'AIFQSSMTT',\n",
       " 'AIFQSSMTY',\n",
       " 'AIFTYTGGY',\n",
       " 'AIGLAWIPY',\n",
       " 'AIGTSITQK',\n",
       " 'AIIDYIAYM',\n",
       " 'AIIGPGLQAK',\n",
       " 'AIILHQQQK',\n",
       " 'AIIRILQQL',\n",
       " 'AIITPIVFY',\n",
       " 'AIITPVVFY',\n",
       " 'AIITPVVFYR',\n",
       " 'AIKCVDIVK',\n",
       " 'AIKEVVMAY',\n",
       " 'AIKILIGFRK',\n",
       " 'AIKILTGFRK',\n",
       " 'AIKPITDQF',\n",
       " 'AIKVLRGFKK',\n",
       " 'AILGVLATL',\n",
       " 'AILQSSMTR',\n",
       " 'AILVTTVTLH',\n",
       " 'AIMATIQRK',\n",
       " 'AIMPARFYPK',\n",
       " 'AIMQVFFGY',\n",
       " 'AIMVASDVCK',\n",
       " 'AINSEMFLL',\n",
       " 'AINSEMFLR',\n",
       " 'AINSVPWSK',\n",
       " 'AINVLRGFRK',\n",
       " 'AIPYFYKGK',\n",
       " 'AIQIQMFEA',\n",
       " 'AISAVYFKAK',\n",
       " 'AISDPCMGL',\n",
       " 'AISDYDYYR',\n",
       " 'AISGDDCVVK',\n",
       " 'AISKLGINY',\n",
       " 'AISRLRTQK',\n",
       " 'AISSRVDRY',\n",
       " 'AISYCRAFIY',\n",
       " 'AITAASLPK',\n",
       " 'AITDNGPMPY',\n",
       " 'AITPTIEDDK',\n",
       " 'AITTPQMTL',\n",
       " 'AITTSNCAK',\n",
       " 'AIVCRFDTR',\n",
       " 'AIYESNIGY',\n",
       " 'AIYKNTIAY',\n",
       " 'AIYVFCISLK',\n",
       " 'AKATGRYNL',\n",
       " 'AKFQSSMTK',\n",
       " 'AKIALAVYK',\n",
       " 'AKYEICLEK',\n",
       " 'ALAAAAAAK',\n",
       " 'ALAGNHWHV',\n",
       " 'ALAKAAAAV',\n",
       " 'ALALGMMVLK',\n",
       " 'ALALLLLDR',\n",
       " 'ALASFLFGF',\n",
       " 'ALAVLSKCY',\n",
       " 'ALAYYNNSK',\n",
       " 'ALCEKALKY',\n",
       " 'ALCTFLLNK',\n",
       " 'ALCTLLHLHR',\n",
       " 'ALDEKWNEFK',\n",
       " 'ALDGTFQRK',\n",
       " 'ALDISFTGA',\n",
       " 'ALDLSHFLK',\n",
       " 'ALEPGFKDY',\n",
       " 'ALERLLSLK',\n",
       " 'ALERLLSLKK',\n",
       " 'ALEVLMSPCR',\n",
       " 'ALEYLSELK',\n",
       " 'ALFDRPAFK',\n",
       " 'ALFEDYPGC',\n",
       " 'ALFFIIFNK',\n",
       " 'ALFHKVQSY',\n",
       " 'ALFMYYAKR',\n",
       " 'ALGGSIAVK',\n",
       " 'ALGIICSAL',\n",
       " 'ALGYTTEEI',\n",
       " 'ALILAYSNK',\n",
       " 'ALINLVQYR',\n",
       " 'ALIRATSTR',\n",
       " 'ALIVAIWDK',\n",
       " 'ALKAYFTAK',\n",
       " 'ALKISQLQK',\n",
       " 'ALKKLIIDR',\n",
       " 'ALKLSWFKK',\n",
       " 'ALKYLPIDK',\n",
       " 'ALLACAGLAY',\n",
       " 'ALLAKRLGA',\n",
       " 'ALLALNDMGK',\n",
       " 'ALLATSIFK',\n",
       " 'ALLAVGATK',\n",
       " 'ALLGERPII',\n",
       " 'ALLRALRLTK',\n",
       " 'ALLSTDGNK',\n",
       " 'ALMEITSRY',\n",
       " 'ALMEVTHVL',\n",
       " 'ALMPLYACI',\n",
       " 'ALMRWRHPR',\n",
       " 'ALMSIISTFH',\n",
       " 'ALMTLDDLA',\n",
       " 'ALNDTWKIEK',\n",
       " 'ALNDTWKMEK',\n",
       " 'ALNFPGSQK',\n",
       " 'ALNHTKKWK',\n",
       " 'ALNSVANRSK',\n",
       " 'ALNTITNLK',\n",
       " 'ALPPPPPPP',\n",
       " 'ALPPRAYAM',\n",
       " 'ALRANSAVK',\n",
       " 'ALRSRWRAL',\n",
       " 'ALSEAREHLK',\n",
       " 'ALSMADIFI',\n",
       " 'ALSMGINTV',\n",
       " 'ALSTNHGHK',\n",
       " 'ALTALNDMGK',\n",
       " 'ALTLHWFRK',\n",
       " 'ALVEICTEM',\n",
       " 'ALVISVTSNY',\n",
       " 'ALVYDNKLK',\n",
       " 'ALWEIQQVV',\n",
       " 'ALYEKKLAL',\n",
       " 'ALYEQVVMDY',\n",
       " 'ALYLLDGLR',\n",
       " 'ALYRRIQRR',\n",
       " 'ALYSYASAK',\n",
       " 'ALYVFCNDHK',\n",
       " 'ALYWALMES',\n",
       " 'ALYYVHSLLY',\n",
       " 'AMAETGCDA',\n",
       " 'AMCLNTFVLK',\n",
       " 'AMCNVYIPPY',\n",
       " 'AMCTNTFVLK',\n",
       " 'AMDEFIQRY',\n",
       " 'AMDEFIQRYK',\n",
       " 'AMEKSSKYY',\n",
       " 'AMENLKAMLY',\n",
       " 'AMGDAGGYK',\n",
       " 'AMHYIRHRA',\n",
       " 'AMIDRLHQT',\n",
       " 'AMLFLISGK',\n",
       " 'AMLTAFFLR',\n",
       " 'AMMWRIAQL',\n",
       " 'AMPNLYKMQR',\n",
       " 'AMPYNILDR',\n",
       " 'AMQDPNPEV',\n",
       " 'AMSCDFNGGK',\n",
       " 'AMSFDGFIR',\n",
       " 'AMVPLVMVI',\n",
       " 'AMVTLRKER',\n",
       " 'AMYYAVLSEY',\n",
       " 'AMYYRRTER',\n",
       " 'ANCSSISIK',\n",
       " 'ANFASQEVK',\n",
       " 'ANFPGLAKV',\n",
       " 'ANFQSSMTK',\n",
       " 'ANFSVIFDR',\n",
       " 'ANGSLFTEQ',\n",
       " 'ANKQYIHCFR',\n",
       " 'ANNNRLPKR',\n",
       " 'ANPGRVKDW',\n",
       " 'ANRLTTLQR',\n",
       " 'ANTMAMMAR',\n",
       " 'ANTSSASNK',\n",
       " 'APAKKAAAK',\n",
       " 'APAKKAAPA',\n",
       " 'APDGFYPFK',\n",
       " 'APEEKYLSM',\n",
       " 'APGKSLGTL',\n",
       " 'APGWLIWTY',\n",
       " 'APIEHIASM',\n",
       " 'APILVVSGI',\n",
       " 'APKEFRGAL',\n",
       " 'APLAHRLGM',\n",
       " 'APPHGGIAF',\n",
       " 'APQFSLWRR',\n",
       " 'APRALLLLL',\n",
       " 'APRARTAAF',\n",
       " 'APRELLQYI',\n",
       " 'APRGFRAAF',\n",
       " 'APRQPGLMA',\n",
       " 'APRRRDEEL',\n",
       " 'APRTLVLLL',\n",
       " 'APRTLVYLL',\n",
       " 'APRTVALTA',\n",
       " 'APSYRNFSF',\n",
       " 'APTGDLPRA',\n",
       " 'APTLHRLGI',\n",
       " 'APYFATVRL',\n",
       " 'AQALNTLVK',\n",
       " 'AQCFKMFYK',\n",
       " 'AQFSPQYL',\n",
       " 'AQGLVASIK',\n",
       " 'AQGYKVLVL',\n",
       " 'AQHAPDAAK',\n",
       " 'AQHSTTLFK',\n",
       " 'AQIDNYNKF',\n",
       " 'AQIGVIGVF',\n",
       " 'AQLYAYAGF',\n",
       " 'AQNAISTTF',\n",
       " 'AQPAPQAPY',\n",
       " 'AQPCSDKAYK',\n",
       " 'AQPLPQRQK',\n",
       " 'AQPLPQRQKK',\n",
       " 'AQQFANVISK',\n",
       " 'AQRAAGPSV',\n",
       " 'AQRPAKYSY',\n",
       " 'AQRWANQIR',\n",
       " 'AQTVEDEARR',\n",
       " 'AQYKCVTIK',\n",
       " 'AQYKCVTIKY',\n",
       " 'ARADGILRF',\n",
       " 'ARHGEYAPF',\n",
       " 'ARIDARIDF',\n",
       " 'ARLFGIRAK',\n",
       " 'ARLGKGYMF',\n",
       " 'ARWLASTPL',\n",
       " 'ARWLFPVYL',\n",
       " 'ARWMISSAL',\n",
       " 'ARYGIFLPF',\n",
       " 'ARYSNFAWY',\n",
       " 'ASAFFGMSR',\n",
       " 'ASANLAATK',\n",
       " 'ASCDAIMTR',\n",
       " 'ASCMGLIYNR',\n",
       " 'ASDDLEHWQ',\n",
       " 'ASDPSFPDI',\n",
       " 'ASDRISGIL',\n",
       " 'ASDYSQGAF',\n",
       " 'ASFKAGKLR',\n",
       " 'ASGNLLLDK',\n",
       " 'ASGQRCHFIK',\n",
       " 'ASHFISNSW',\n",
       " 'ASILSLETVK',\n",
       " 'ASILSRMAY',\n",
       " 'ASITPNNLNK',\n",
       " 'ASKKDKLTVY',\n",
       " 'ASKTINALVY',\n",
       " 'ASLKNTISK',\n",
       " 'ASLPKTSGH',\n",
       " 'ASLPTTIAK',\n",
       " 'ASLPYGANK',\n",
       " 'ASLTPKAQR',\n",
       " 'ASMGFKVTTR',\n",
       " 'ASNKPISNR',\n",
       " 'ASPISSIFSR',\n",
       " 'ASPVAQSYL',\n",
       " 'ASRGLWDSF',\n",
       " 'ASSMINGVVK',\n",
       " 'ASSMVNGVVK',\n",
       " 'ASSRITKGR',\n",
       " 'ASSSNYNTY',\n",
       " 'ASSWAPTQK',\n",
       " 'ASTISWMMK',\n",
       " 'ASTNRQSGR',\n",
       " 'ASTTENAAY',\n",
       " 'ASWFNSFLTH',\n",
       " 'ASYKIFRIEK',\n",
       " 'ASYQFQLPY',\n",
       " 'ASYRLCLYR',\n",
       " 'ATAAAAAAK',\n",
       " 'ATADLELAY',\n",
       " 'ATAHGSTLA',\n",
       " 'ATAHSELAK',\n",
       " 'ATAKAAAAY',\n",
       " 'ATCVYNMMGK',\n",
       " 'ATDALMTGF',\n",
       " 'ATDALMTGY',\n",
       " 'ATDFKFAMY',\n",
       " 'ATDKAAAAY',\n",
       " 'ATDVPSATK',\n",
       " 'ATDYIASGQR',\n",
       " 'ATEDPSSGY',\n",
       " 'ATEGALNTPK',\n",
       " 'ATFEAVLAK',\n",
       " 'ATFEVFLAK',\n",
       " 'ATFIDVHIPK',\n",
       " 'ATFLWWIPL',\n",
       " 'ATFRLECPY',\n",
       " 'ATFSRPGSL',\n",
       " 'ATFSVPMEK',\n",
       " 'ATGFKQSSK',\n",
       " 'ATGFPFFDR',\n",
       " 'ATHKAPQPA',\n",
       " 'ATIEAVLAK',\n",
       " 'ATIGTAMYK',\n",
       " 'ATIQRFSSLR',\n",
       " 'ATISTSPQS',\n",
       " 'ATISYRIKL',\n",
       " 'ATIWQLLAF',\n",
       " 'ATKIIALNK',\n",
       " 'ATKRYPGVMY',\n",
       " 'ATLEDDRER',\n",
       " 'ATLKNVTEVK',\n",
       " 'ATLLSQVEV',\n",
       " 'ATLMKTSCSK',\n",
       " 'ATMLDVDLR',\n",
       " 'ATMLEYVRY',\n",
       " 'ATNDGLIKK',\n",
       " 'ATNNVFRLK',\n",
       " 'ATPQDLNTM',\n",
       " 'ATPYDINQML',\n",
       " 'ATQLATLRK',\n",
       " 'ATQPVHWFL',\n",
       " 'ATQVEQHHR',\n",
       " 'ATRAVMMGL',\n",
       " 'ATREGKHGK',\n",
       " 'ATRLENIMWK',\n",
       " 'ATSAGTRRQR',\n",
       " 'ATSIYTIER',\n",
       " 'ATSLDVINY',\n",
       " 'ATSRTLSYY',\n",
       " 'ATSRTLSYYK',\n",
       " 'ATSSFREKSR',\n",
       " 'ATSTGNYNY',\n",
       " 'ATSTGNYNYK',\n",
       " 'ATSTRHPSK',\n",
       " 'ATSYLEYEI',\n",
       " 'ATTAAGPPK',\n",
       " 'ATTELRTFS',\n",
       " 'ATTFITPMLR',\n",
       " 'ATTFVTPMLR',\n",
       " 'ATTIITPMMR',\n",
       " 'ATTILTPMLR',\n",
       " 'ATTTSPQNH',\n",
       " 'ATTVITPMLR',\n",
       " 'ATTVITPMMR',\n",
       " 'ATVANVFLY',\n",
       " 'ATVAYFNMVY',\n",
       " 'ATVKGMQSY',\n",
       " 'ATVKNVVLR',\n",
       " 'ATVLMGLGK',\n",
       " 'ATVVIGTSK',\n",
       " 'ATYGTAVNK',\n",
       " 'ATYGWNLVK',\n",
       " 'ATYLGPQFCK',\n",
       " 'ATYTGVFDK',\n",
       " 'AVAEAQCKK',\n",
       " 'AVAKCNLNH',\n",
       " 'AVANCVRNL',\n",
       " 'AVAPSMTMR',\n",
       " 'AVARKHHTK',\n",
       " 'AVAVARVAA',\n",
       " 'AVAVHDFFK',\n",
       " 'AVCCLTLAR',\n",
       " 'AVCTRGVAK',\n",
       " 'AVDLSHFLK',\n",
       " 'AVDLSHFLR',\n",
       " 'AVDLYHFLK',\n",
       " 'AVDPAKAYK',\n",
       " 'AVDRGCLRI',\n",
       " 'AVEDEEFWK',\n",
       " 'AVEGGLYPV',\n",
       " 'AVFDGCVVY',\n",
       " 'AVFDRKSDAK',\n",
       " 'AVFDSFVER',\n",
       " 'AVFEIFFRK',\n",
       " 'AVFIHNFKR',\n",
       " 'AVFIHNFKRK',\n",
       " 'AVFKDSFLGK',\n",
       " 'AVFKDSFLR',\n",
       " 'AVFKDSFLRK',\n",
       " 'AVFKNSFLGK',\n",
       " 'AVFLSYIGY',\n",
       " 'AVFPRYHPR',\n",
       " 'AVHDFFKFR',\n",
       " 'AVHECFVKR',\n",
       " 'AVHGYYIGY',\n",
       " 'AVIFTPIYY',\n",
       " 'AVIIRGHLR',\n",
       " 'AVILQNAWK',\n",
       " 'AVINTTCNY',\n",
       " 'AVIPFDDIVR',\n",
       " 'AVIRANNNR',\n",
       " 'AVKDVTITKK',\n",
       " 'AVKFAEESY',\n",
       " 'AVLDDGIYR',\n",
       " 'AVLDMCAALK',\n",
       " 'AVLDRDGNFR',\n",
       " 'AVLLHEESM',\n",
       " 'AVLQSGFRK',\n",
       " 'AVLSAATETY',\n",
       " 'AVLYYHMMK',\n",
       " 'AVMAPRTHNR',\n",
       " 'AVMDIISRK',\n",
       " 'AVMFFPFWF',\n",
       " 'AVMLVHTYY',\n",
       " 'AVMRMGDLH',\n",
       " 'AVMYMGTLSY',\n",
       " 'AVNHYFKTR',\n",
       " 'AVNKSNKPLK',\n",
       " 'AVNNLVELK',\n",
       " 'AVNPGLLET',\n",
       " 'AVNPGLLETS',\n",
       " 'AVNTPVSMTY',\n",
       " 'AVQTKPGIFK',\n",
       " 'AVQTKPGLFK',\n",
       " 'AVRAFLLRHY',\n",
       " 'AVREATAAF',\n",
       " 'AVRHFPRIW',\n",
       " 'AVRNAKAAV',\n",
       " 'AVRQFRASV',\n",
       " 'AVRQKSRWI',\n",
       " 'AVRYYDGNIY',\n",
       " 'AVSEIQNNK',\n",
       " 'AVSFRNLAY',\n",
       " 'AVSKNRRQL',\n",
       " 'AVSLIAIIK',\n",
       " 'AVSMANIFR',\n",
       " 'AVSSGKNIK',\n",
       " 'AVSTANIFR',\n",
       " 'AVSWSGKELK',\n",
       " 'AVTAALHRK',\n",
       " 'AVVADLSAR',\n",
       " 'AVVCYNSNY',\n",
       " 'AVVLASLIYR',\n",
       " 'AVVLMGLDK',\n",
       " 'AVVSLLRLLK',\n",
       " 'AVVYRGTTTY',\n",
       " 'AVYGNIKHK',\n",
       " 'AVYGNITHK',\n",
       " 'AVYKTYGQY',\n",
       " 'AVYLLDGLR',\n",
       " 'AVYSICKFY',\n",
       " 'AVYSSSMVK',\n",
       " 'AVYSTFLHR',\n",
       " 'AYAKAAAAF',\n",
       " 'AYDDAEQMY',\n",
       " 'AYDHGNVIL',\n",
       " 'AYFATPASV',\n",
       " 'AYFQSSMTK',\n",
       " 'AYGSRFHEW',\n",
       " 'AYHHMAREL',\n",
       " 'AYHPQQFIY',\n",
       " 'AYIDNYNKF',\n",
       " 'AYIDNYNKV',\n",
       " 'AYLLQHLDL',\n",
       " 'AYMDRKSFK',\n",
       " 'AYQPTRWFI',\n",
       " 'AYQQGVKTL',\n",
       " 'AYSPFAFKK',\n",
       " 'AYSSWMYSY',\n",
       " 'AYYWNQNGF',\n",
       " 'CAAYYFMKFR',\n",
       " 'CADGTRHTY',\n",
       " 'CAGDFAFHK',\n",
       " 'CAGGYYDVY',\n",
       " 'CAGVIEYAK',\n",
       " 'CALPFTSAR',\n",
       " 'CAMPYNILDR',\n",
       " 'CANGWIQYDK',\n",
       " 'CAVHLIIYY',\n",
       " 'CCFHCQVC',\n",
       " 'CCNWLDRCR',\n",
       " 'CCNWLDRCRH',\n",
       " 'CEKRLLLKL',\n",
       " 'CELSSHGDL',\n",
       " 'CEMNHVNSMH',\n",
       " 'CFKEASFSK',\n",
       " 'CFKEASFSKR',\n",
       " 'CFLVKLKHR',\n",
       " 'CFMYSDFHF',\n",
       " 'CFPSTQRDY',\n",
       " 'CFPSTQRDYY',\n",
       " 'CHATLTHRL',\n",
       " 'CHKGWGVSV',\n",
       " 'CIAWSSSSCH',\n",
       " 'CICYGSYSLY',\n",
       " 'CIFAFIDFSK',\n",
       " 'CIPSRSKMLK',\n",
       " 'CIRNASKFVY',\n",
       " 'CIYQSPVRK',\n",
       " 'CKFNMTGLK',\n",
       " 'CKQHFKPPK',\n",
       " 'CLAVHECFVK',\n",
       " 'CLEWLRAKR',\n",
       " 'CLEWLRAKRK',\n",
       " 'CLFDRYFKY',\n",
       " 'CLGGLLTMV',\n",
       " 'CLIFLLVLL',\n",
       " 'CLLAISAVY',\n",
       " 'CLLPRVVGGK',\n",
       " 'CLNTFVLKK',\n",
       " 'CLRRFIIFL',\n",
       " 'CLSLSNLDFR',\n",
       " 'CLWLLTLGL',\n",
       " 'CLYPWAIFH',\n",
       " 'CMLTEFLHY',\n",
       " 'CMTSCCSCLK',\n",
       " 'CNDTNYSGF',\n",
       " 'CNKQSKEGK',\n",
       " 'CPGDYAFHK',\n",
       " 'CPPTCPGYR',\n",
       " 'CQFDHVNTLH',\n",
       " 'CQLMYALEPR',\n",
       " 'CQSVCEEFFH',\n",
       " 'CRAPRKKGC',\n",
       " 'CRDCKQHFK',\n",
       " 'CRTAFKPVL',\n",
       " 'CSDDGFWSK',\n",
       " 'CSEFIRIIR',\n",
       " 'CSEVPQSGY',\n",
       " 'CSEYVKDIY',\n",
       " 'CSKHMDARY',\n",
       " 'CSRMLDTSEK',\n",
       " 'CSSLTEEFYH',\n",
       " 'CTDDNALAY',\n",
       " 'CTDESRDRK',\n",
       " 'CTDKFSQLF',\n",
       " 'CTDPPLLSV',\n",
       " 'CTDPSERVFK',\n",
       " 'CTDPYSQMV',\n",
       " 'CTEETKRNI',\n",
       " 'CTELKLSDY',\n",
       " 'CTFMIITSTK',\n",
       " 'CTGKFKIVK',\n",
       " 'CTGSFKLEK',\n",
       " 'CTIDNPTKY',\n",
       " 'CTLPPLRFK',\n",
       " 'CTNTFVLKK',\n",
       " 'CVDIFTEGK',\n",
       " 'CVDIPGIPK',\n",
       " 'CVFAYVGCY',\n",
       " 'CVFKFIVAK',\n",
       " 'CVNDGGLFY',\n",
       " 'CYDLMSFLE',\n",
       " 'CYLDTNIKM',\n",
       " 'CYMHVSDFY',\n",
       " 'CYPRLWGVR',\n",
       " 'DAAASSLLY',\n",
       " 'DAASSRITK',\n",
       " 'DADPPIPYSR',\n",
       " 'DAEACYIYK',\n",
       " 'DAHKKNLYDH',\n",
       " 'DAKNDDWKK',\n",
       " 'DAKNDDWKKY',\n",
       " 'DARYCSEFIR',\n",
       " 'DAVRAFLLR',\n",
       " 'DAVVADLSAR',\n",
       " 'DAYGFHNYK',\n",
       " 'DAYNIADAAR',\n",
       " 'DAYRRIHSL',\n",
       " 'DCFLWHVRK',\n",
       " 'DCKTILKAL',\n",
       " 'DDDPTDSQD',\n",
       " 'DEHLRGFSK',\n",
       " 'DEHLRGFSM',\n",
       " 'DEKPKVMEG',\n",
       " 'DETSSLPPL',\n",
       " 'DEVEFLGHY',\n",
       " 'DFAVSKGFFK',\n",
       " 'DFDGTPRLY',\n",
       " 'DFDNLIGVR',\n",
       " 'DFESVTNSVY',\n",
       " 'DFGYATMAK',\n",
       " 'DFIGKTIGF',\n",
       " 'DFIRRKYLIY',\n",
       " 'DFLKDDTLSK',\n",
       " 'DFPIFNQRY',\n",
       " 'DFRDYQSYR',\n",
       " 'DFRNRYEDY',\n",
       " 'DFRNRYEDYR',\n",
       " 'DFSKSTSPTR',\n",
       " 'DFTLFIKTGH',\n",
       " 'DFWRLYNSLK',\n",
       " 'DFYDFAVSK',\n",
       " 'DHLKEKSSL',\n",
       " 'DHQAAFQYI',\n",
       " 'DHQLDPAFR',\n",
       " 'DHVSTLLTWH',\n",
       " 'DIAEHGAYY',\n",
       " 'DIALALEQY',\n",
       " 'DICSKHMDAR',\n",
       " 'DIDILQTNSR',\n",
       " 'DIDLLFNEK',\n",
       " 'DIEIGNFYIR',\n",
       " 'DIETAIRAGY',\n",
       " 'DIFMRDWNSK',\n",
       " 'DIFVSLVKK',\n",
       " 'DIICEDAMY',\n",
       " 'DIICEDAMYY',\n",
       " 'DIIIAVARK',\n",
       " 'DIIRAHPWF',\n",
       " 'DIITYNGCK',\n",
       " 'DIKLDAVLDR',\n",
       " 'DIKLIDIAL',\n",
       " 'DILASIIDY',\n",
       " 'DILGVLTIK',\n",
       " 'DILSIIDAK',\n",
       " 'DILTYNKTSK',\n",
       " 'DINVIGLIV',\n",
       " 'DIRQDVIAM',\n",
       " 'DISKLTNFK',\n",
       " 'DISPTNIPL',\n",
       " 'DITFLRPVLK',\n",
       " 'DIVGGLFTY',\n",
       " 'DIVKGLSGY',\n",
       " 'DIVNEHDIK',\n",
       " 'DIVNEHDIKY',\n",
       " 'DIVNGKECCY',\n",
       " 'DIVNNFITK',\n",
       " 'DIVRVFNEY',\n",
       " 'DKYGWLCKMH',\n",
       " 'DLAAGVDVV',\n",
       " 'DLDKVYEILK',\n",
       " 'DLGPAFTEL',\n",
       " 'DLIAMENLK',\n",
       " 'DLIEWAMEK',\n",
       " 'DLIKKSDAK',\n",
       " 'DLIKKSDAKR',\n",
       " 'DLIVTFRER',\n",
       " 'DLIVTFRERY',\n",
       " 'DLKRIGASL',\n",
       " 'DLKWARFPK',\n",
       " 'DLLENLQAY',\n",
       " 'DLLFNEKLK',\n",
       " 'DLLNSMMNR',\n",
       " 'DLLNVTYNIK',\n",
       " 'DLNKVIQFL',\n",
       " 'DLPPAIAAE',\n",
       " 'DLPSGFNTLK',\n",
       " 'DLSARNKLFK',\n",
       " 'DLSNSMRDF',\n",
       " 'DLSRHSWDL',\n",
       " 'DLTALLSCIR',\n",
       " 'DLTQIFEVY',\n",
       " 'DLTTMPTYK',\n",
       " 'DLVKSSFVK',\n",
       " 'DLVKSSFVKK',\n",
       " 'DLVKSYSLIR',\n",
       " 'DMFLTSVINR',\n",
       " 'DMMFINSTCY',\n",
       " 'DMMLMIGNY',\n",
       " 'DMQKFTILEY',\n",
       " 'DMRKRIEAF',\n",
       " 'DMSHLKVALY',\n",
       " 'DMYDQQLSV',\n",
       " 'DMYQSVCRK',\n",
       " 'DNQKLSYLK',\n",
       " 'DPKKTGGPI',\n",
       " 'DPKNWWHIL',\n",
       " 'DPNPQEVVL',\n",
       " 'DPRDDLSGM',\n",
       " 'DPSGAYFAW',\n",
       " 'DPSMLRTTA',\n",
       " 'DQAMTQMYK',\n",
       " 'DQDALFAYTK',\n",
       " 'DQEKKILMN',\n",
       " 'DQFSIPIRY',\n",
       " 'DQYKDLCHMH',\n",
       " 'DRFFKTLRA',\n",
       " 'DRFYKTLRA',\n",
       " 'DRLASTVIY',\n",
       " 'DRLFFKCIYR',\n",
       " 'DRLHPPNKL',\n",
       " 'DRSDGYFLK',\n",
       " 'DRYPANAIV',\n",
       " 'DSCNANGCEH',\n",
       " 'DSDGSFFLY',\n",
       " 'DSDPMDGCE',\n",
       " 'DSDVSLIIEY',\n",
       " 'DSEPISILDR',\n",
       " 'DSFLRKIGDK',\n",
       " 'DSIKDVIHDY',\n",
       " 'DSIPISELSR',\n",
       " 'DSKGISHFY',\n",
       " 'DSLLITNTK',\n",
       " 'DSMDVLAEK',\n",
       " 'DSMDVLAEKK',\n",
       " 'DSPATLSAY',\n",
       " 'DSPIGPIML',\n",
       " 'DSPLTLLIK',\n",
       " 'DSVAKCCSK',\n",
       " 'DSVCACGLFK',\n",
       " 'DSVKSILKWH',\n",
       " 'DTAKPTSVY',\n",
       " 'DTDIFSPENK',\n",
       " 'DTDISQLHH',\n",
       " 'DTEDIVSDSK',\n",
       " 'DTFGVIDTM',\n",
       " 'DTGCRIDGY',\n",
       " 'DTHYTVEFDR',\n",
       " 'DTIESAKTK',\n",
       " 'DTIVSRSSR',\n",
       " 'DTKCKNNYF',\n",
       " 'DTLKVCIGY',\n",
       " 'DTLKVGNTY',\n",
       " 'DTNLITCNDH',\n",
       " 'DTPLIPLTIF',\n",
       " 'DTQMRTPLHK',\n",
       " 'DTRGIFSAY',\n",
       " 'DTSASEIKDR',\n",
       " 'DTSEKYSKGY',\n",
       " 'DTSNNIAEY',\n",
       " 'DTSPTKRCR',\n",
       " 'DTSYYVKEY',\n",
       " 'DTTTDISKY',\n",
       " 'DTVLEEMNL',\n",
       " 'DTVLFNAGL',\n",
       " 'DTVNRTHQY',\n",
       " 'DTVWEVQGYK',\n",
       " 'DTWHGFKNM',\n",
       " 'DVAASSLLY',\n",
       " 'DVCGMFTNR',\n",
       " 'DVDIYDAVR',\n",
       " 'DVDTSASEIK',\n",
       " 'DVFHLYLQY',\n",
       " 'DVHPGEPVVK',\n",
       " 'DVIGNDRQE',\n",
       " 'DVKASMLEK',\n",
       " 'DVKASMLEKY',\n",
       " 'DVKVLAARLK',\n",
       " 'DVLEIINDK',\n",
       " 'DVLKTRLFR',\n",
       " 'DVLPFDIKY',\n",
       " 'DVMLVTLPV',\n",
       " 'DVNGIRKPK',\n",
       " 'DVQRTRCKY',\n",
       " 'DVRDKRRKY',\n",
       " 'DVSLIIEYK',\n",
       " 'DVSLSAYIIR',\n",
       " 'DVSMMSMYGK',\n",
       " 'DVSPLMHLF',\n",
       " 'DVSVDAMIHK',\n",
       " 'DWSGYSGSF',\n",
       " 'DWTDGSRGYR',\n",
       " 'DYAMHGTVF',\n",
       " 'DYCNVLNKEF',\n",
       " 'DYDQRDYGF',\n",
       " 'DYHKILTAG',\n",
       " 'DYIYLPLLK',\n",
       " 'DYKECEWPL',\n",
       " 'DYNFVKQLF',\n",
       " 'DYPDDFMDK',\n",
       " 'DYVPTNKWV',\n",
       " 'EACYIYKSGK',\n",
       " 'EADPTGHSY',\n",
       " 'EAFPYEITE',\n",
       " 'EAIVNAQPK',\n",
       " 'EALEYLSELK',\n",
       " 'EAMAFLEESH',\n",
       " 'EANASAQTK',\n",
       " 'EARGKEKLL',\n",
       " 'EARIVDKFGK',\n",
       " 'EAVMRMGDLH',\n",
       " 'EAVRHFPRI',\n",
       " 'EAVYGNIKHK',\n",
       " 'EAYCALLCK',\n",
       " 'ECYVQRFFLR',\n",
       " 'EDDDAASSR',\n",
       " 'EDFEIFYNL',\n",
       " 'EEAPAAVSF',\n",
       " 'EECDSELEI',\n",
       " 'EEDAAVDDL',\n",
       " 'EEDEGEELF',\n",
       " 'EEDLPVTWR',\n",
       " 'EEFLQCGRL',\n",
       " 'EEIDWIKTD',\n",
       " 'EEIRRIWRQ',\n",
       " 'EEKAFSPEV',\n",
       " 'EEMATKADY',\n",
       " 'EEMNLPGRW',\n",
       " 'EEMPLVWDL',\n",
       " 'EENLIDFAS',\n",
       " 'EENLLDFVRF',\n",
       " 'EEQTDPKTL',\n",
       " 'EESASSGKL',\n",
       " 'EETLLTTWL',\n",
       " 'EEVWRDPYL',\n",
       " 'EFCVDHPFIY',\n",
       " 'EFDNYRGTI',\n",
       " 'EFFDGGLTF',\n",
       " 'EFFDTEPQL',\n",
       " 'EFFGWAEGY',\n",
       " 'EFIFSALDEK',\n",
       " 'EFINTGSSK',\n",
       " 'EFIPNLFCM',\n",
       " 'EFIRIIRPDY',\n",
       " 'EFIYWDWLY',\n",
       " 'EFKQILTDF',\n",
       " 'EFKRRLKDL',\n",
       " 'EFKSRFFVM',\n",
       " 'EFLHYCNSY',\n",
       " 'EFTSDYPFY',\n",
       " 'EFTSFFYRY',\n",
       " 'EFVMCLEAK',\n",
       " 'EGAGIDDPV',\n",
       " 'EGFDPRALI',\n",
       " 'EGFLKAAMF',\n",
       " 'EGGKVFAPK',\n",
       " 'EGGVGWRHW',\n",
       " 'EGIEGRIAY',\n",
       " 'EGNLAQGFR',\n",
       " 'EHAGVISVL',\n",
       " 'EHFYWGSVF',\n",
       " 'EHGIVIRAF',\n",
       " 'EHNGGDDPL',\n",
       " 'EHVQGDIDL',\n",
       " 'EHYVRITGL',\n",
       " 'EIAQHGAWY',\n",
       " 'EIARIENEMK',\n",
       " 'EIDVLPFDIK',\n",
       " 'EIEIEKNKK',\n",
       " 'EIFPNIKIY',\n",
       " 'EIFSAWISH',\n",
       " 'EIIELTRTL',\n",
       " 'EIIFLKLFK',\n",
       " 'EIIFLKLFKK',\n",
       " 'EIIFYHPTF',\n",
       " 'EIIGGNDMY',\n",
       " 'EIINDKGKQY',\n",
       " 'EIINFTISMR',\n",
       " 'EIINNGISY',\n",
       " 'EIIPKIKAY',\n",
       " 'EIITGNKVK',\n",
       " 'EIKAEMQLK',\n",
       " 'EIKDRILSY',\n",
       " 'EIKFNDITF',\n",
       " 'EIKNRDKIV',\n",
       " 'EIKQGRVNK',\n",
       " 'EILKINSVK',\n",
       " 'EILKINSVKY',\n",
       " 'EILRNYLRLY',\n",
       " 'EIMDKEQLLK',\n",
       " 'EINEWLSSK',\n",
       " 'EIPGSPGSY',\n",
       " 'EIPQFMIGL',\n",
       " 'EIRHRSGIQ',\n",
       " 'EISGLRPGE',\n",
       " 'EISSNDNAK',\n",
       " 'EITGPIIMI',\n",
       " 'EIYFSSIHR',\n",
       " 'EIYKRWII',\n",
       " 'EIYRTLYGL',\n",
       " 'EKAAWGVAL',\n",
       " 'EKEGKISKI',\n",
       " 'EKFFPSSSY',\n",
       " 'EKFGHFCKYH',\n",
       " 'EKFGHLCKYH',\n",
       " 'EKLKKKSAF',\n",
       " 'EKPKFLPDL',\n",
       " 'EKPPVRPIF',\n",
       " 'EKSSKYYIK',\n",
       " 'EKYGHLCKYH',\n",
       " 'ELAELLEMK',\n",
       " 'ELAELLEMKY',\n",
       " 'ELALTDVEK',\n",
       " 'ELALTDVEKR',\n",
       " 'ELAPIRVNA',\n",
       " 'ELCGAFLFY',\n",
       " 'ELDEIGEDV',\n",
       " 'ELENKKVEY',\n",
       " 'ELESLSKRER',\n",
       " 'ELFARSSDPR',\n",
       " 'ELFDKDTFFK',\n",
       " 'ELFIAPEGM',\n",
       " 'ELFYILIAK',\n",
       " 'ELGELIGVNY',\n",
       " 'ELGFNYPEY',\n",
       " 'ELGIAIFNNR',\n",
       " 'ELIDVLKTR',\n",
       " ...]"
      ]
     },
     "execution_count": 5,
     "metadata": {},
     "output_type": "execute_result"
    }
   ],
   "source": [
    "peptides_sorted = inp['Sequence'].tolist()\n",
    "peptides_sorted.sort()\n",
    "peptides_sorted\n"
   ]
  },
  {
   "cell_type": "code",
   "execution_count": 6,
   "metadata": {},
   "outputs": [],
   "source": [
    "### get the first 8 amino acids for the 'core sequence'\n",
    "first8 = [x[:8] for x in peptides]\n",
    "#first8"
   ]
  },
  {
   "cell_type": "code",
   "execution_count": 7,
   "metadata": {},
   "outputs": [
    {
     "name": "stdout",
     "output_type": "stream",
     "text": [
      "6283\n",
      "6010\n"
     ]
    }
   ],
   "source": [
    "print(len(first8))\n",
    "print(len(set(first8)))"
   ]
  },
  {
   "cell_type": "code",
   "execution_count": 8,
   "metadata": {},
   "outputs": [
    {
     "name": "stdout",
     "output_type": "stream",
     "text": [
      "6283\n",
      "6010\n"
     ]
    }
   ],
   "source": [
    "print(len(first8))\n",
    "print(len(set(first8)))"
   ]
  },
  {
   "cell_type": "code",
   "execution_count": 9,
   "metadata": {},
   "outputs": [],
   "source": [
    "unique_cores = set(first8)"
   ]
  },
  {
   "cell_type": "code",
   "execution_count": 10,
   "metadata": {},
   "outputs": [],
   "source": [
    "### make a dict with the indexes of the positions for each of the unique core sequences\n",
    "core_seqs_dict = {}\n",
    "n=0\n",
    "for x in list(unique_cores):\n",
    "    #print(n)\n",
    "    core_seqs_dict[n] = [i for i, y in enumerate(first8) if y == x ]\n",
    "    n+=1"
   ]
  },
  {
   "cell_type": "code",
   "execution_count": 11,
   "metadata": {},
   "outputs": [
    {
     "data": {
      "text/plain": [
       "[3430]"
      ]
     },
     "execution_count": 11,
     "metadata": {},
     "output_type": "execute_result"
    }
   ],
   "source": [
    "core_seqs_dict[202]"
   ]
  },
  {
   "cell_type": "code",
   "execution_count": 12,
   "metadata": {},
   "outputs": [
    {
     "data": {
      "text/plain": [
       "6283"
      ]
     },
     "execution_count": 12,
     "metadata": {},
     "output_type": "execute_result"
    }
   ],
   "source": [
    "len(inp['Sequence'])"
   ]
  },
  {
   "cell_type": "code",
   "execution_count": 13,
   "metadata": {},
   "outputs": [
    {
     "data": {
      "text/plain": [
       "6283"
      ]
     },
     "execution_count": 13,
     "metadata": {},
     "output_type": "execute_result"
    }
   ],
   "source": [
    "# are there duplicate peptides?\n",
    "len(set(inp['Sequence']))"
   ]
  },
  {
   "cell_type": "code",
   "execution_count": 14,
   "metadata": {},
   "outputs": [],
   "source": [
    "inp['namelen']= [len(str(i)) for i in inp['Sequence']]\n",
    "input1 = inp[ (inp['namelen'] >= 2) ]\n",
    "#parameters, max length of sequence with\n",
    "maxlen = max([len(x) for x in input1.Sequence]) ### list comprehension to get max length of sequences"
   ]
  },
  {
   "cell_type": "markdown",
   "metadata": {},
   "source": [
    "## encoding sequence by index for embedding layer"
   ]
  },
  {
   "cell_type": "code",
   "execution_count": 15,
   "metadata": {},
   "outputs": [
    {
     "name": "stdout",
     "output_type": "stream",
     "text": [
      "{'END', 'G', 'V', 'L', 'K', 'N', 'P', 'H', 'E', 'Y', 'A', 'I', 'W', 'R', 'S', 'C', 'F', 'T', 'Q', 'M', 'D'}\n"
     ]
    }
   ],
   "source": [
    "### make vocabulary for encoding\n",
    "seq = input1['Sequence']\n",
    "vocab = set(''.join([str(i) for i in seq]))\n",
    "vocab.add('END')  # not using END cause they are all the same length\n",
    "len_vocab = len(vocab)\n",
    "print(vocab)"
   ]
  },
  {
   "cell_type": "code",
   "execution_count": 16,
   "metadata": {},
   "outputs": [
    {
     "data": {
      "text/plain": [
       "21"
      ]
     },
     "execution_count": 16,
     "metadata": {},
     "output_type": "execute_result"
    }
   ],
   "source": [
    "len_vocab"
   ]
  },
  {
   "cell_type": "code",
   "execution_count": 17,
   "metadata": {},
   "outputs": [
    {
     "data": {
      "text/plain": [
       "['A',\n",
       " 'C',\n",
       " 'D',\n",
       " 'E',\n",
       " 'END',\n",
       " 'F',\n",
       " 'G',\n",
       " 'H',\n",
       " 'I',\n",
       " 'K',\n",
       " 'L',\n",
       " 'M',\n",
       " 'N',\n",
       " 'P',\n",
       " 'Q',\n",
       " 'R',\n",
       " 'S',\n",
       " 'T',\n",
       " 'V',\n",
       " 'W',\n",
       " 'Y']"
      ]
     },
     "execution_count": 17,
     "metadata": {},
     "output_type": "execute_result"
    }
   ],
   "source": [
    "### always use alphabetical character index in the future\n",
    "vocab_list = list(vocab)\n",
    "vocab_list.sort()\n",
    "vocab_list"
   ]
  },
  {
   "cell_type": "code",
   "execution_count": 18,
   "metadata": {},
   "outputs": [],
   "source": [
    "char_index = dict((vocab_list[i], i) for i in range(len(vocab_list)))\n",
    "X = []\n",
    "x_name = [str(i)[0:maxlen] for i in seq]\n",
    "for i in x_name:\n",
    "    tmp = [char_index[j] for j in str(i)]\n",
    "    for k in range(0,maxlen - len(str(i))):\n",
    "        tmp.append(char_index[\"END\"])\n",
    "    X.append(tmp)"
   ]
  },
  {
   "cell_type": "code",
   "execution_count": 19,
   "metadata": {},
   "outputs": [
    {
     "data": {
      "text/plain": [
       "{'A': 0,\n",
       " 'C': 1,\n",
       " 'D': 2,\n",
       " 'E': 3,\n",
       " 'END': 4,\n",
       " 'F': 5,\n",
       " 'G': 6,\n",
       " 'H': 7,\n",
       " 'I': 8,\n",
       " 'K': 9,\n",
       " 'L': 10,\n",
       " 'M': 11,\n",
       " 'N': 12,\n",
       " 'P': 13,\n",
       " 'Q': 14,\n",
       " 'R': 15,\n",
       " 'S': 16,\n",
       " 'T': 17,\n",
       " 'V': 18,\n",
       " 'W': 19,\n",
       " 'Y': 20}"
      ]
     },
     "execution_count": 19,
     "metadata": {},
     "output_type": "execute_result"
    }
   ],
   "source": [
    "char_index"
   ]
  },
  {
   "cell_type": "code",
   "execution_count": 20,
   "metadata": {},
   "outputs": [
    {
     "name": "stdout",
     "output_type": "stream",
     "text": [
      "['AAAATSAGTR', 'AAASSLLYK', 'AAATSAGTR', 'AAATSAGTRR', 'AAAYFVGYLK', 'AACAMLLVK']\n",
      "[[0, 0, 0, 0, 17, 16, 0, 6, 17, 15], [0, 0, 0, 16, 16, 10, 10, 20, 9, 4], [0, 0, 0, 17, 16, 0, 6, 17, 15, 4], [0, 0, 0, 17, 16, 0, 6, 17, 15, 15], [0, 0, 0, 20, 5, 18, 6, 20, 10, 9], [0, 0, 1, 0, 11, 10, 10, 18, 9, 4]]\n"
     ]
    }
   ],
   "source": [
    "# compare the encoding with the sequences using above dictionary\n",
    "print(peptides[0:6])\n",
    "print(X[0:6])"
   ]
  },
  {
   "cell_type": "code",
   "execution_count": 22,
   "metadata": {},
   "outputs": [
    {
     "name": "stdout",
     "output_type": "stream",
     "text": [
      "[0.25341089]\n"
     ]
    }
   ],
   "source": [
    "# Create an empty list \n",
    "all_int_list =[] \n",
    "# Iterate over each row \n",
    "for index, rows in input1.iterrows(): \n",
    "    # Create list for the current row \n",
    "    my_list=[rows.Intensity] #[rows.CRT, \n",
    "    # append the list to the final list \n",
    "    all_int_list.append(my_list) \n",
    "  \n",
    "# Print the list \n",
    "print(all_int_list[0]) "
   ]
  },
  {
   "cell_type": "code",
   "execution_count": 23,
   "metadata": {},
   "outputs": [
    {
     "data": {
      "text/plain": [
       "(6283, 1)"
      ]
     },
     "execution_count": 23,
     "metadata": {},
     "output_type": "execute_result"
    }
   ],
   "source": [
    "#intensities = input1['INTENSITY']\n",
    "np.asarray(all_int_list).shape"
   ]
  },
  {
   "cell_type": "code",
   "execution_count": 24,
   "metadata": {},
   "outputs": [
    {
     "data": {
      "text/plain": [
       "[-0.365513938]"
      ]
     },
     "execution_count": 24,
     "metadata": {},
     "output_type": "execute_result"
    }
   ],
   "source": [
    "# some values are below 0\n",
    "min(all_int_list)"
   ]
  },
  {
   "cell_type": "code",
   "execution_count": 25,
   "metadata": {},
   "outputs": [],
   "source": [
    "# function to plot distributions of the intensity values across MHC\n",
    "def pltgroup(ylabels):\n",
    "    ''' only plots four histograms of y values to quickly compare distributions'''\n",
    "    plt.rcParams['figure.figsize'] = [20, 20] \n",
    "    fig, (ax1) = plt.subplots(1,1, sharex='row', sharey='row')\n",
    "    p0 = ax1.hist(ylabels, bins=100)\n",
    "    #p1 = ax2.hist(ylabels[:,1], bins=100)\n",
    "    ax1.set_title(\"CRT\")\n",
    "    \n",
    "    plt.xlabel(\"tfm intensity\")\n",
    "    plt.ylabel(\"number of examples\")"
   ]
  },
  {
   "cell_type": "code",
   "execution_count": 26,
   "metadata": {},
   "outputs": [
    {
     "data": {
      "image/png": "[encoded data removed]",
      "text/plain": [
       "<Figure size 1440x1440 with 1 Axes>"
      ]
     },
     "metadata": {
      "needs_background": "light"
     },
     "output_type": "display_data"
    }
   ],
   "source": [
    "pltgroup(np.asarray(all_int_list))"
   ]
  },
  {
   "cell_type": "code",
   "execution_count": 27,
   "metadata": {},
   "outputs": [
    {
     "name": "stdout",
     "output_type": "stream",
     "text": [
      "(6283, 10)\n",
      "(6283, 1)\n"
     ]
    }
   ],
   "source": [
    "X = np.asarray(X)\n",
    "Y = np.asarray(all_int_list)"
   ]
  },
  {
   "cell_type": "code",
   "execution_count": 29,
   "metadata": {},
   "outputs": [],
   "source": [
    "## train/test split based on the core 8 AA sequences\n",
    "coretrainall, coretest = train_test_split(range(0, len(core_seqs_dict)), test_size=0.10, random_state=42)\n",
    "# split train into train/validation\n",
    "coretrain, coreval = train_test_split(coretrainall, test_size=0.20, random_state=42)"
   ]
  },
  {
   "cell_type": "code",
   "execution_count": 30,
   "metadata": {},
   "outputs": [
    {
     "data": {
      "text/plain": [
       "[4056, 2175, 215, 75, 4603, 4909, 5255, 4997, 1921, 3096]"
      ]
     },
     "execution_count": 30,
     "metadata": {},
     "output_type": "execute_result"
    }
   ],
   "source": [
    "coretrain[0:10]"
   ]
  },
  {
   "cell_type": "code",
   "execution_count": 31,
   "metadata": {},
   "outputs": [
    {
     "name": "stdout",
     "output_type": "stream",
     "text": [
      "5409\n",
      "4327\n",
      "1082\n",
      "601\n",
      "6010\n"
     ]
    }
   ],
   "source": [
    "print(len(coretrainall))\n",
    "print(len(coretrain))\n",
    "print(len(coreval))\n",
    "print(len(coretest))\n",
    "print(len(coretrain)+ len(coretest)+len(coreval))"
   ]
  },
  {
   "cell_type": "code",
   "execution_count": 32,
   "metadata": {
    "scrolled": false
   },
   "outputs": [
    {
     "data": {
      "text/plain": [
       "4522"
      ]
     },
     "execution_count": 32,
     "metadata": {},
     "output_type": "execute_result"
    }
   ],
   "source": [
    "## use those indexes in the dictionary core_seq_dict to assign actual training and testing\n",
    "tmplist = [core_seqs_dict[x] for x in coretrain]\n",
    "trainindex = []\n",
    "for x in tmplist:\n",
    "    trainindex+=x\n",
    "len(trainindex)"
   ]
  },
  {
   "cell_type": "code",
   "execution_count": 33,
   "metadata": {},
   "outputs": [
    {
     "data": {
      "text/plain": [
       "1132"
      ]
     },
     "execution_count": 33,
     "metadata": {},
     "output_type": "execute_result"
    }
   ],
   "source": [
    "## use those indexes in the dictionary core_seq_dict to assign actual training and testing\n",
    "tmplist = [core_seqs_dict[x] for x in coreval]\n",
    "valindex = []\n",
    "for x in tmplist:\n",
    "    valindex+=x\n",
    "len(valindex)"
   ]
  },
  {
   "cell_type": "code",
   "execution_count": 34,
   "metadata": {},
   "outputs": [
    {
     "data": {
      "text/plain": [
       "629"
      ]
     },
     "execution_count": 34,
     "metadata": {},
     "output_type": "execute_result"
    }
   ],
   "source": [
    "## use those indexes in the dictionary core_seq_dict to assign actual training and testing\n",
    "tmplist = [core_seqs_dict[j] for j in coretest]\n",
    "testindex = []\n",
    "for x in tmplist:\n",
    "    testindex += x\n",
    "len(testindex)"
   ]
  },
  {
   "cell_type": "code",
   "execution_count": 35,
   "metadata": {},
   "outputs": [
    {
     "name": "stdout",
     "output_type": "stream",
     "text": [
      "4522\n",
      "1132\n",
      "629\n",
      "4522\n",
      "1132\n",
      "629\n"
     ]
    }
   ],
   "source": [
    "Xtrain = X[trainindex]\n",
    "Xval = X[valindex]\n",
    "Xtest = X[testindex]\n",
    "\n",
    "Ytrain = Y[trainindex]\n",
    "Yval = Y[valindex]\n",
    "Ytest = Y[testindex]"
   ]
  },
  {
   "cell_type": "code",
   "execution_count": 36,
   "metadata": {},
   "outputs": [],
   "source": [
    "Xtestseq = inp['Sequence'][testindex]"
   ]
  },
  {
   "cell_type": "code",
   "execution_count": 42,
   "metadata": {},
   "outputs": [],
   "source": [
    "## save numpy arrays of each for the hyperas hyperparameter search loop\n",
    "np.savetxt('20210524_A1101_xtrain.txt', Xtrain)\n",
    "np.savetxt('20210524_A1101_xval.txt', Xval)\n",
    "np.savetxt('20210524_A1101_xtest.txt', Xtest)\n",
    "np.savetxt('20210524_A1101_ytrain.txt', Ytrain)\n",
    "np.savetxt('20210524_A1101_yval.txt', Yval)\n",
    "np.savetxt('20210524_A1101_ytest.txt', Ytest)"
   ]
  },
  {
   "cell_type": "markdown",
   "metadata": {},
   "source": [
    "### check that the train and test sets have similar class distro"
   ]
  },
  {
   "cell_type": "code",
   "execution_count": 3,
   "metadata": {
    "scrolled": false
   },
   "outputs": [
    {
     "data": {
      "image/png": "[encoded data removed]",
      "text/plain": [
       "<Figure size 360x360 with 1 Axes>"
      ]
     },
     "metadata": {
      "needs_background": "light"
     },
     "output_type": "display_data"
    }
   ],
   "source": [
    "ylabels = np.loadtxt('20210524_A1101_ytrain.txt') # train set\n",
    "\n",
    "plt.rcParams['figure.figsize'] = [5, 5] \n",
    "fig, (ax1) = plt.subplots(1,1, sharex='row', sharey='row')\n",
    "p0 = ax1.hist(ylabels, bins=100)\n",
    "#p1 = ax2.hist(ylabels[:,1], bins=100)\n",
    "ax1.set_title(\"A1101 Train\")\n",
    "\n",
    "plt.xlabel(\"IC50\")\n",
    "plt.ylabel(\"number of examples\")\n",
    "plt.savefig('ytrain_a1101.svg')\n",
    "plt.show()"
   ]
  },
  {
   "cell_type": "code",
   "execution_count": 4,
   "metadata": {},
   "outputs": [
    {
     "data": {
      "image/png": "[encoded data removed]",
      "text/plain": [
       "<Figure size 360x360 with 1 Axes>"
      ]
     },
     "metadata": {
      "needs_background": "light"
     },
     "output_type": "display_data"
    }
   ],
   "source": [
    "ylabels = np.loadtxt('20210524_A1101_yval.txt') # validation set\n",
    "\n",
    "plt.rcParams['figure.figsize'] = [5, 5] \n",
    "fig, (ax1) = plt.subplots(1,1, sharex='row', sharey='row')\n",
    "p0 = ax1.hist(ylabels, bins=100)\n",
    "#p1 = ax2.hist(ylabels[:,1], bins=100)\n",
    "ax1.set_title(\"A1101 Validation\")\n",
    "\n",
    "plt.xlabel(\"IC50\")\n",
    "plt.ylabel(\"number of examples\")\n",
    "plt.savefig('yval_a1101.svg')\n",
    "plt.show()"
   ]
  },
  {
   "cell_type": "code",
   "execution_count": 2,
   "metadata": {},
   "outputs": [
    {
     "data": {
      "image/png": "[encoded data removed]",
      "text/plain": [
       "<Figure size 360x360 with 1 Axes>"
      ]
     },
     "metadata": {
      "needs_background": "light"
     },
     "output_type": "display_data"
    }
   ],
   "source": [
    "ylabels = np.loadtxt('20210524_A1101_ytest.txt') # test set\n",
    "plt.rcParams['figure.figsize'] = [5, 5] \n",
    "fig, (ax1) = plt.subplots(1,1, sharex='row', sharey='row')\n",
    "p0 = ax1.hist(ylabels, bins=100)\n",
    "#p1 = ax2.hist(ylabels[:,1], bins=100)\n",
    "ax1.set_title(\"A1101 Test\")\n",
    "\n",
    "plt.xlabel(\"IC50\")\n",
    "plt.ylabel(\"number of examples\")\n",
    "plt.savefig('ytest_A1101.svg')\n",
    "plt.show()"
   ]
  },
  {
   "cell_type": "code",
   "execution_count": 61,
   "metadata": {
    "scrolled": false
   },
   "outputs": [
    {
     "name": "stdout",
     "output_type": "stream",
     "text": [
      "6283\n",
      "6283\n"
     ]
    },
    {
     "data": {
      "image/png": "[encoded data removed]",
      "text/plain": [
       "<Figure size 473.725x360 with 1 Axes>"
      ]
     },
     "metadata": {},
     "output_type": "display_data"
    }
   ],
   "source": [
    "import seaborn as sns\n",
    "import pandas as pd\n",
    "#ytrain = np.loadtxt('20210429_CRT_CCS_ytrain.txt') # train set\n",
    "#yval = np.loadtxt('20210429_CRT_CCS_yval.txt')\n",
    "#ytest = np.loadtxt('20210429_CRT_CCS_ytest.txt')\n",
    "\n",
    "ytrain = np.loadtxt('20210524_A1101_ytrain.txt') # train set\n",
    "yval = np.loadtxt('20210524_A1101_yval.txt')\n",
    "ytest = np.loadtxt('20210524_A1101_ytest.txt')\n",
    "\n",
    "labels = []\n",
    "\n",
    "for y in ytrain:\n",
    "    labels.append(\"Training Data\")\n",
    "for y in yval:\n",
    "    labels.append(\"Validation Data\")\n",
    "for y in ytest:\n",
    "    labels.append(\"Testing Data\")\n",
    "    \n",
    "yall = []\n",
    "for value in ytrain:\n",
    "    yall.append(value)\n",
    "for value in yval:\n",
    "    yall.append(value)\n",
    "for value in ytest:\n",
    "    yall.append(value)\n",
    "    \n",
    "print(len(labels))\n",
    "print(len(yall))\n",
    "\n",
    "ydf = pd.DataFrame(list(zip(labels, yall)), columns =['label', 'value'])\n",
    "\n",
    "sns.set_style(\"white\") \n",
    "sns.set(font_scale = 4.5)\n",
    "#fig = plt.gcf()\n",
    "#sns.set_size_inches(100,100)\n",
    "sns.set(rc={'figure.figsize':(10,10)})\n",
    "sns.set_style(\"white\") \n",
    "sns.displot(ydf, x=\"value\", hue=\"label\", multiple=\"stack\" )\n",
    "plt.savefig(\"a1101-datasplit.svg\")"
   ]
  },
  {
   "cell_type": "markdown",
   "metadata": {},
   "source": [
    "# quick test one parameter set showing model works"
   ]
  },
  {
   "cell_type": "code",
   "execution_count": 6,
   "metadata": {},
   "outputs": [
    {
     "data": {
      "text/plain": [
       "'2.3.1'"
      ]
     },
     "execution_count": 6,
     "metadata": {},
     "output_type": "execute_result"
    }
   ],
   "source": [
    "keras.__version__\n",
    "tf.__version__"
   ]
  },
  {
   "cell_type": "code",
   "execution_count": null,
   "metadata": {
    "scrolled": false
   },
   "outputs": [],
   "source": [
    "#Model for A1101 alleles\n",
    "\n",
    "os.environ[\"TF_FORCE_GPU_ALLOW_GROWTH\"]=\"true\"\n",
    "X_train = np.loadtxt('20210524_A1101_xtrain.txt')\n",
    "X_val = np.loadtxt('20210524_A1101_xval.txt')\n",
    "Y_train = np.loadtxt('20210524_A1101_ytrain.txt')\n",
    "Y_val = np.loadtxt('20210524_A1101_yval.txt')\n",
    "\n",
    "model = tf.keras.Sequential()\n",
    "model.add(tf.keras.layers.Embedding(output_dim=50 , input_dim=21, input_length=10))\n",
    "\n",
    "model.add(tf.keras.layers.LSTM(128, return_sequences=True, input_shape=(10,21)))\n",
    "model.add(tf.keras.layers.Dropout(0.5333324976566283))\n",
    "model.add(tf.keras.layers.LSTM(128, return_sequences=False))\n",
    "model.add(tf.keras.layers.Dropout(0.5630981705545706))\n",
    "#model.add(tf.keras.layers.LSTM(128, return_sequences=False))\n",
    "#model.add(tf.keras.layers.Dropout(0.5))\n",
    "model.add(tf.keras.layers.Dense(64))\n",
    "\n",
    "model.add(tf.keras.layers.LeakyReLU(alpha=0.3))\n",
    "#model.add(BatchNormalization())\n",
    "model.add(tf.keras.layers.Dropout(0.7995520644054326))\n",
    "\n",
    "model.add(tf.keras.layers.Dense(1))\n",
    "optimizermodel = tf.keras.optimizers.Adam(0.001)\n",
    "optimizermodel.learning_rate.assign(0.01)\n",
    "#print(optimizer.learning_rate)\n",
    "model.compile(loss='mse', optimizer = optimizermodel,  metrics=['mse'])\n",
    "\n",
    "hist = model.fit(X_train, Y_train,\n",
    "          batch_size=5000,\n",
    "          epochs= 200,\n",
    "          verbose=2,\n",
    "          validation_data=(X_val, Y_val))\n"
   ]
  },
  {
   "cell_type": "code",
   "execution_count": 4,
   "metadata": {},
   "outputs": [
    {
     "data": {
      "image/png": "[encoded data removed]",
      "text/plain": [
       "<Figure size 432x288 with 1 Axes>"
      ]
     },
     "metadata": {
      "needs_background": "light"
     },
     "output_type": "display_data"
    }
   ],
   "source": [
    "# plot validation and training loss to assess overfitting\n",
    "plt.semilogy(hist.history['val_loss'])\n",
    "plt.semilogy(hist.history['loss'])\n",
    "plt.legend(['val_loss', 'loss'])\n",
    "plt.savefig('lossplot_a1101.svg')"
   ]
  },
  {
   "cell_type": "code",
   "execution_count": 175,
   "metadata": {},
   "outputs": [
    {
     "name": "stdout",
     "output_type": "stream",
     "text": [
      "Model: \"sequential_23\"\n",
      "_________________________________________________________________\n",
      "Layer (type)                 Output Shape              Param #   \n",
      "=================================================================\n",
      "embedding_23 (Embedding)     (None, 10, 50)            1050      \n",
      "_________________________________________________________________\n",
      "lstm_46 (LSTM)               (None, 10, 128)           91648     \n",
      "_________________________________________________________________\n",
      "dropout_65 (Dropout)         (None, 10, 128)           0         \n",
      "_________________________________________________________________\n",
      "dense_42 (Dense)             (None, 10, 64)            8256      \n",
      "_________________________________________________________________\n",
      "leaky_re_lu_21 (LeakyReLU)   (None, 10, 64)            0         \n",
      "_________________________________________________________________\n",
      "dropout_66 (Dropout)         (None, 10, 64)            0         \n",
      "_________________________________________________________________\n",
      "dense_43 (Dense)             (None, 10, 1)             65        \n",
      "=================================================================\n",
      "Total params: 101,019\n",
      "Trainable params: 101,019\n",
      "Non-trainable params: 0\n",
      "_________________________________________________________________\n"
     ]
    }
   ],
   "source": [
    "model.summary() # best model architecture"
   ]
  },
  {
   "cell_type": "code",
   "execution_count": 5,
   "metadata": {},
   "outputs": [
    {
     "name": "stdout",
     "output_type": "stream",
     "text": [
      "WARNING:tensorflow:From c:\\programdata\\anaconda3\\envs\\tensorflow\\lib\\site-packages\\tensorflow\\python\\training\\tracking\\tracking.py:111: Model.state_updates (from tensorflow.python.keras.engine.training) is deprecated and will be removed in a future version.\n",
      "Instructions for updating:\n",
      "This property should not be used in TensorFlow 2.0, as updates are applied automatically.\n",
      "WARNING:tensorflow:From c:\\programdata\\anaconda3\\envs\\tensorflow\\lib\\site-packages\\tensorflow\\python\\training\\tracking\\tracking.py:111: Layer.updates (from tensorflow.python.keras.engine.base_layer) is deprecated and will be removed in a future version.\n",
      "Instructions for updating:\n",
      "This property should not be used in TensorFlow 2.0, as updates are applied automatically.\n",
      "INFO:tensorflow:Assets written to: 20210608_A1101_final.model\\assets\n"
     ]
    }
   ],
   "source": [
    "model.save('20210608_A1101_final.model') # save model for later"
   ]
  },
  {
   "cell_type": "code",
   "execution_count": 4,
   "metadata": {
    "scrolled": true
   },
   "outputs": [
    {
     "name": "stdout",
     "output_type": "stream",
     "text": [
      "{'Dropout': 0.04999730587706014, 'Dropout_1': 0.295346240262041, 'Dropout_2': 0.3257983840159514, 'assign': 4, 'batch_size': 2, 'epochs': 0}\n"
     ]
    }
   ],
   "source": [
    "print (best_run0)"
   ]
  },
  {
   "cell_type": "markdown",
   "metadata": {},
   "source": [
    "# Get model predictions, inverse transform, and compare"
   ]
  },
  {
   "cell_type": "code",
   "execution_count": 2,
   "metadata": {},
   "outputs": [],
   "source": [
    "\n",
    "X_test = np.loadtxt('20210524_A1101_xtest.txt')\n",
    "y_test = np.loadtxt('20210524_A1101_ytest.txt')"
   ]
  },
  {
   "cell_type": "code",
   "execution_count": 4,
   "metadata": {},
   "outputs": [],
   "source": [
    "import tensorflow as tf"
   ]
  },
  {
   "cell_type": "code",
   "execution_count": 3,
   "metadata": {},
   "outputs": [
    {
     "name": "stdout",
     "output_type": "stream",
     "text": [
      "Model: \"sequential\"\n",
      "_________________________________________________________________\n",
      "Layer (type)                 Output Shape              Param #   \n",
      "=================================================================\n",
      "embedding (Embedding)        (None, 10, 50)            1050      \n",
      "_________________________________________________________________\n",
      "lstm (LSTM)                  (None, 10, 128)           91648     \n",
      "_________________________________________________________________\n",
      "dropout (Dropout)            (None, 10, 128)           0         \n",
      "_________________________________________________________________\n",
      "lstm_1 (LSTM)                (None, 128)               131584    \n",
      "_________________________________________________________________\n",
      "dropout_1 (Dropout)          (None, 128)               0         \n",
      "_________________________________________________________________\n",
      "dense (Dense)                (None, 64)                8256      \n",
      "_________________________________________________________________\n",
      "leaky_re_lu (LeakyReLU)      (None, 64)                0         \n",
      "_________________________________________________________________\n",
      "dropout_2 (Dropout)          (None, 64)                0         \n",
      "_________________________________________________________________\n",
      "dense_1 (Dense)              (None, 1)                 65        \n",
      "=================================================================\n",
      "Total params: 232,603\n",
      "Trainable params: 232,603\n",
      "Non-trainable params: 0\n",
      "_________________________________________________________________\n"
     ]
    }
   ],
   "source": [
    "#from tensorflow.compat.v1.keras.backend import get_session\n",
    "#tf.compat.v1.disable_v2_behavior()\n",
    "#shap.explainers._deep.deep_tf.op_handlers[\"AddV2\"] = shap.explainers._deep.deep_tf.passthrough\n",
    "model = tf.keras.models.load_model('20210608_A1101_final.model')\n",
    "model.summary()"
   ]
  },
  {
   "cell_type": "code",
   "execution_count": 7,
   "metadata": {},
   "outputs": [
    {
     "name": "stdout",
     "output_type": "stream",
     "text": [
      "0.10119888\n",
      "[[0.10119888 0.22562616 0.21545234 ... 0.71838939 0.63849437 0.16979809]\n",
      " [0.08468665 0.08468665 0.36474236 ... 0.87187405 0.68716811 0.23465501]]\n"
     ]
    },
    {
     "name": "stderr",
     "output_type": "stream",
     "text": [
      "c:\\programdata\\anaconda3\\envs\\tensorflow\\lib\\site-packages\\seaborn\\_decorators.py:36: FutureWarning: Pass the following variables as keyword args: x, y. From version 0.12, the only valid positional argument will be `data`, and passing other arguments without an explicit keyword will result in an error or misinterpretation.\n",
      "  warnings.warn(\n"
     ]
    },
    {
     "name": "stdout",
     "output_type": "stream",
     "text": [
      "SpearmanrResult(correlation=0.807895864519498, pvalue=4.055416425407873e-146)\n"
     ]
    },
    {
     "data": {
      "image/png": "[encoded data removed]",
      "text/plain": [
       "<Figure size 576x576 with 3 Axes>"
      ]
     },
     "metadata": {},
     "output_type": "display_data"
    }
   ],
   "source": [
    "import sklearn\n",
    "import scipy\n",
    "import seaborn as sns\n",
    "ccs = []\n",
    "CCSpred = []\n",
    "\n",
    "\n",
    "\n",
    "for value in y_pred:\n",
    "    CCSpred.append(value[0])\n",
    "\n",
    "print(CCSpred[0])\n",
    "    \n",
    "CCSreal = []\n",
    "for value in y_test:\n",
    "    CCSreal.append(value)\n",
    "\n",
    "    \n",
    "ccs.append(CCSpred)\n",
    "ccs.append(CCSreal)\n",
    "print(np.asarray(ccs))\n",
    "dccs = {'Predicted IC50': CCSpred, 'True IC50': CCSreal}\n",
    "\n",
    "\n",
    "\n",
    "\n",
    "\n",
    "dfccs = pd.DataFrame(data = dccs)\n",
    "\n",
    "\n",
    "\n",
    "\n",
    "\n",
    "#fig, (ax1,ax2, ax3, ax4, ax5) = plt.subplots(1,5, sharex='row', sharey='row')\n",
    "\n",
    "sns.set(style=\"ticks\", color_codes=True, font_scale=2.5)\n",
    "j = sns.jointplot('Predicted IC50', 'True IC50', data = dfccs, kind='reg', height=8, color = 'g', xlim = (-0.25,1.05), ylim = (-0.250,1.05))\n",
    "#j.annotate(stats.pearsonr, loc = (\"upper left\"), fontsize=14)\n",
    "j.fig.suptitle(\"IC50\")\n",
    "prCCS, pCCS = scipy.stats.spearmanr(CCSpred, CCSreal)\n",
    "print(scipy.stats.spearmanr(CCSpred, CCSreal))\n",
    "mseCCS=round(sklearn.metrics.mean_squared_error(CCSpred, CCSreal),4)\n",
    "j.ax_joint.text(-0.225,0.95,\"MSE = \" + str(mseCCS), fontsize=24)\n",
    "j.ax_joint.text(-0.225,0.85,\"r = \" + str(round(prCCS,4)), fontsize=24)\n",
    "j.ax_joint.text(-0.225,0.75,\"p = \" + str(round(pCCS,2)), fontsize=24)\n",
    "plt.savefig('A1101realvspredicted.png')\n",
    "plt.savefig('A1101realvspredicted.svg')\n",
    "plt.show()"
   ]
  },
  {
   "cell_type": "code",
   "execution_count": 8,
   "metadata": {},
   "outputs": [
    {
     "name": "stdout",
     "output_type": "stream",
     "text": [
      "SpearmanrResult(correlation=0.8598036014715501, pvalue=0.0)\n"
     ]
    }
   ],
   "source": [
    "import scipy\n",
    "#print(y_pred[:,1])\n",
    "#print(y_test)\n",
    "print(scipy.stats.spearmanr(y_pred[:,0], y_test))\n",
    "#scipy.stats.spearmanr(y_pred[:,1], y_test[:,1])\n"
   ]
  }
 ],
 "metadata": {
  "kernelspec": {
   "display_name": "Python 3",
   "language": "python",
   "name": "python3"
  },
  "language_info": {
   "codemirror_mode": {
    "name": "ipython",
    "version": 3
   },
   "file_extension": ".py",
   "mimetype": "text/x-python",
   "name": "python",
   "nbconvert_exporter": "python",
   "pygments_lexer": "ipython3",
   "version": "3.8.5"
  }
 },
 "nbformat": 4,
 "nbformat_minor": 2
}
